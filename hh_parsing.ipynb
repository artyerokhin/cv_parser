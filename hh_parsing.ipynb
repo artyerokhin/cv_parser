{
 "cells": [
  {
   "cell_type": "code",
   "execution_count": 1,
   "metadata": {},
   "outputs": [],
   "source": [
    "import requests\n",
    "import json\n",
    "import re\n",
    "import time\n",
    "\n",
    "import pandas as pd\n",
    "\n",
    "from parse_hh_data import download, parse\n",
    "from tqdm.notebook import tqdm_notebook\n",
    "from bs4 import BeautifulSoup\n",
    "from random import randint"
   ]
  },
  {
   "cell_type": "code",
   "execution_count": 22,
   "metadata": {},
   "outputs": [],
   "source": [
    "names = [\"Go разработчик\",\n",
    "\"Главный инженер по сопровождению\",\n",
    "\"Эксперт направления моделирования резервов\",\n",
    "\"Data Engineer\",\n",
    "\"Senior Data Scientist\",\n",
    "\"Аналитик SAS\",\n",
    "\"Аналитик банковских рисков\",\n",
    "\"Главный инженер по тестированию (автоматизация)\",\n",
    "\"Ведущий DevOps инженер\",\n",
    "\"Дежурный инженер сопровождения банковских систем\",\n",
    "\"Дизайнер мобильных интерфейсов\",\n",
    "\"Специалист по тестированию по направлению SAS RTDM\",\n",
    "\"Разработчик Front-end (Middle)\",\n",
    "\"Системный аналитик DWH\",\n",
    "\"Аналитик системы принятия решений\",\n",
    "\"Инженер DevOps\",\n",
    "\"Главный разработчик Back-end Java\",\n",
    "\"Разработчик RPA\",\n",
    "\"Разработчик Back-end (Oracle+.net+ReactJS)\",\n",
    "\"Разработчик Front-end (REACT)\",\n",
    "\"Системный аналитик\",\n",
    "\"Архитектор\",\n",
    "\"Системный аналитик (проекты розничного блока)\",\n",
    "\"Системный аналитик (базы данных)\",\n",
    "\"Аналитик (web приложения)\",\n",
    "\"Бизнес-технолог\",\n",
    "\"Frontend разработчик\",\n",
    "\"Руководитель разработки JAVA\"]"
   ]
  },
  {
   "cell_type": "code",
   "execution_count": 26,
   "metadata": {},
   "outputs": [],
   "source": [
    "headers = {\n",
    "    \"user-agent\": \"Mozilla/5.0 (Windows NT 10.0; Win64; x64)\"\n",
    "                  \"AppleWebKit/537.36 (KHTML, like Gecko)\"\n",
    "                  \"Chrome/84.0.4147.89\"\n",
    "                  \"Safari/537.36\"}"
   ]
  },
  {
   "cell_type": "code",
   "execution_count": 53,
   "metadata": {},
   "outputs": [
    {
     "name": "stdout",
     "output_type": "stream",
     "text": [
      "Go разработчик 0\n",
      "Go разработчик 1\n",
      "Go разработчик 2\n",
      "Главный инженер по сопровождению 0\n",
      "Главный инженер по сопровождению 1\n",
      "Главный инженер по сопровождению 2\n",
      "Эксперт направления моделирования резервов 0\n",
      "Эксперт направления моделирования резервов 1\n",
      "Эксперт направления моделирования резервов 2\n",
      "Data Engineer 0\n",
      "Data Engineer 1\n",
      "Data Engineer 2\n",
      "Аналитик SAS 0\n",
      "Аналитик SAS 1\n",
      "Аналитик SAS 2\n",
      "Аналитик банковских рисков 0\n",
      "Аналитик банковских рисков 1\n",
      "Аналитик банковских рисков 2\n",
      "Главный инженер по тестированию (автоматизация) 0\n",
      "Главный инженер по тестированию (автоматизация) 1\n",
      "Главный инженер по тестированию (автоматизация) 2\n",
      "Ведущий DevOps инженер 0\n",
      "Ведущий DevOps инженер 1\n",
      "Ведущий DevOps инженер 2\n",
      "Дежурный инженер сопровождения банковских систем 0\n",
      "Дежурный инженер сопровождения банковских систем 1\n",
      "Дежурный инженер сопровождения банковских систем 2\n",
      "Дизайнер мобильных интерфейсов 0\n",
      "Дизайнер мобильных интерфейсов 1\n",
      "Дизайнер мобильных интерфейсов 2\n",
      "Специалист по тестированию по направлению SAS RTDM 0\n",
      "Специалист по тестированию по направлению SAS RTDM 1\n",
      "Специалист по тестированию по направлению SAS RTDM 2\n",
      "Разработчик Front-end (Middle) 0\n",
      "Разработчик Front-end (Middle) 1\n",
      "Разработчик Front-end (Middle) 2\n",
      "Системный аналитик DWH 0\n",
      "Системный аналитик DWH 1\n",
      "Системный аналитик DWH 2\n",
      "Аналитик системы принятия решений 0\n",
      "Аналитик системы принятия решений 1\n",
      "Аналитик системы принятия решений 2\n",
      "Инженер DevOps 0\n",
      "Инженер DevOps 1\n",
      "Инженер DevOps 2\n",
      "Главный разработчик Back-end Java 0\n",
      "Главный разработчик Back-end Java 1\n",
      "Главный разработчик Back-end Java 2\n",
      "Разработчик RPA 0\n",
      "Разработчик RPA 1\n",
      "Разработчик RPA 2\n",
      "Разработчик Back-end (Oracle+.net+ReactJS) 0\n",
      "Разработчик Back-end (Oracle+.net+ReactJS) 1\n",
      "Разработчик Back-end (Oracle+.net+ReactJS) 2\n",
      "Разработчик Front-end (REACT) 0\n",
      "Разработчик Front-end (REACT) 1\n",
      "Разработчик Front-end (REACT) 2\n",
      "Системный аналитик 0\n",
      "Системный аналитик 1\n",
      "Системный аналитик 2\n",
      "Архитектор 0\n",
      "Архитектор 1\n",
      "Архитектор 2\n",
      "Системный аналитик (проекты розничного блока) 0\n",
      "Системный аналитик (проекты розничного блока) 1\n",
      "Системный аналитик (проекты розничного блока) 2\n",
      "Системный аналитик (базы данных) 0\n",
      "Системный аналитик (базы данных) 1\n",
      "Системный аналитик (базы данных) 2\n",
      "Аналитик (web приложения) 0\n",
      "Аналитик (web приложения) 1\n",
      "Аналитик (web приложения) 2\n",
      "Бизнес-технолог 0\n",
      "Бизнес-технолог 1\n",
      "Бизнес-технолог 2\n",
      "Frontend разработчик 0\n",
      "Frontend разработчик 1\n",
      "Frontend разработчик 2\n",
      "Руководитель разработки JAVA 0\n",
      "Руководитель разработки JAVA 1\n",
      "Руководитель разработки JAVA 2\n"
     ]
    }
   ],
   "source": [
    "result = []\n",
    "\n",
    "for name in names:\n",
    "    for page in [0, 1, 2]:\n",
    "        url = \"https://hh.ru/search/resume?clusters=True&area=1&order_by=relevance&logic=normal&pos=full_text&exp_period=all_time&no_magic=False&st=resumeSearch&text={}&page={}\".format(\n",
    "            name.replace(\" \", \"+\"), page)\n",
    "        page_res = requests.get(url, headers=headers)\n",
    "        for res in re.findall(\"resume\\/([0-9a-z]+)\\?\", page_res.text):\n",
    "            result.append((name, page_res, res))\n",
    "        print(name, page)\n",
    "        time.sleep(randint(0, 10) / 10)"
   ]
  },
  {
   "cell_type": "code",
   "execution_count": 56,
   "metadata": {},
   "outputs": [],
   "source": [
    "ids = pd.DataFrame(result, columns=[\"name\", \"page\", \"id\"])[[\"name\",\"id\"]]"
   ]
  },
  {
   "cell_type": "code",
   "execution_count": 60,
   "metadata": {},
   "outputs": [],
   "source": [
    "ids = ids[ids[\"id\"]!=\"advanced\"]"
   ]
  },
  {
   "cell_type": "code",
   "execution_count": 64,
   "metadata": {},
   "outputs": [
    {
     "data": {
      "application/vnd.jupyter.widget-view+json": {
       "model_id": "c5b49400b8a24b4dbf0d629c95a9de4b",
       "version_major": 2,
       "version_minor": 0
      },
      "text/plain": [
       "HBox(children=(FloatProgress(value=0.0, max=1534.0), HTML(value='')))"
      ]
     },
     "metadata": {},
     "output_type": "display_data"
    },
    {
     "name": "stdout",
     "output_type": "stream",
     "text": [
      "\n"
     ]
    }
   ],
   "source": [
    "dicts = []\n",
    "\n",
    "for user_id in tqdm_notebook(ids[\"id\"].values):\n",
    "    res = download.resume(user_id)\n",
    "    dicts.append(parse.resume(res))\n",
    "    time.sleep(randint(0, 4) / 10)"
   ]
  },
  {
   "cell_type": "code",
   "execution_count": 66,
   "metadata": {},
   "outputs": [
    {
     "name": "stderr",
     "output_type": "stream",
     "text": [
      "/home/gofat/miniconda/lib/python3.6/site-packages/ipykernel_launcher.py:1: SettingWithCopyWarning: \n",
      "A value is trying to be set on a copy of a slice from a DataFrame.\n",
      "Try using .loc[row_indexer,col_indexer] = value instead\n",
      "\n",
      "See the caveats in the documentation: http://pandas.pydata.org/pandas-docs/stable/user_guide/indexing.html#returning-a-view-versus-a-copy\n",
      "  \"\"\"Entry point for launching an IPython kernel.\n"
     ]
    }
   ],
   "source": [
    "ids[\"data_dict\"] = dicts"
   ]
  },
  {
   "cell_type": "code",
   "execution_count": 68,
   "metadata": {},
   "outputs": [],
   "source": [
    "ids.to_csv(\"parsed_data.csv\", index=False)"
   ]
  },
  {
   "cell_type": "code",
   "execution_count": 81,
   "metadata": {},
   "outputs": [],
   "source": [
    "total_keys = []\n",
    "for i in ids[\"data_dict\"].values:\n",
    "    total_keys.extend([key for key in i.keys()])"
   ]
  },
  {
   "cell_type": "code",
   "execution_count": 109,
   "metadata": {},
   "outputs": [],
   "source": [
    "def parse_experience(exp_list):\n",
    "    total = \"\"\n",
    "    for exp in exp_list:\n",
    "        total += \"{} {} {}\\n{}\\n\".format(exp.get(\"start\", \"\"), exp.get(\"end\", \"\"), \n",
    "                                         exp.get(\"position\", \"\"), exp.get(\"description\", \"\"))\n",
    "    return total\n",
    "\n",
    "def parse_education(ed_list):\n",
    "    total = \"\"\n",
    "    for ed in ed_list:\n",
    "        total += \"{} {} {}\\n\".format(ed.get(\"year\", \"\"), ed.get(\"name\", \"\"), \n",
    "                                         ed.get(\"organization\", \"\"))\n",
    "    return total\n",
    "\n",
    "def parse_spec(spec_list):\n",
    "    total = \"\"\n",
    "    for sp in spec_list:\n",
    "        total += \"{} {}\\n\".format(sp.get(\"name\", \"\"), sp.get(\"profarea_name\", \"\"))\n",
    "    return total\n",
    "\n",
    "def parse_lang(lang_list):\n",
    "    total = \"\"\n",
    "    for ln in lang_list:\n",
    "        total += \"{} {}\\n\".format(ln.get(\"name\", \"\"), ln.get(\"level\", \"\"))\n",
    "    return total"
   ]
  },
  {
   "cell_type": "code",
   "execution_count": 144,
   "metadata": {},
   "outputs": [
    {
     "data": {
      "application/vnd.jupyter.widget-view+json": {
       "model_id": "1622d13b244349dd93593ff6a03eb337",
       "version_major": 2,
       "version_minor": 0
      },
      "text/plain": [
       "HBox(children=(FloatProgress(value=0.0, max=1534.0), HTML(value='')))"
      ]
     },
     "metadata": {},
     "output_type": "display_data"
    },
    {
     "name": "stdout",
     "output_type": "stream",
     "text": [
      "\n"
     ]
    }
   ],
   "source": [
    "res_text = []\n",
    "for data_dict in tqdm_notebook(ids[\"data_dict\"]):\n",
    "    result = \"\"\n",
    "    result += \"{}\\n\".format(data_dict.get(\"area\", \"\"))\n",
    "    result += \"{}\\n\".format(data_dict.get(\"title\", \"\"))\n",
    "    # result += \"{}\\n\".format(data_dict.get(\"birth_date\", \"\"))\n",
    "    result += \"{}\\n\".format(parse_spec(data_dict.get(\"specialization\", [])))\n",
    "    result += \"{}\\n\".format(data_dict.get(\"education_level\", []))\n",
    "    result += \"{}\\n\".format(parse_education(data_dict.get(\"education\", [])))\n",
    "    result += \"{}\\n\".format(parse_experience(data_dict.get(\"experience\", [])))\n",
    "    result += \"{}\\n\".format(parse_lang(data_dict.get(\"language\", [])))\n",
    "    result += \"{}\\n\".format(\" \".join([str(s) for s in data_dict.get(\"salary\", {}).values()]))\n",
    "    result += \"{}\\n\".format(\" \".join([s for s in data_dict.get(\"skill_set\", [])]))\n",
    "    result += \"{}\\n\".format(data_dict.get(\"skills\", \"\"))\n",
    "    res_text.append(result)"
   ]
  },
  {
   "cell_type": "code",
   "execution_count": 147,
   "metadata": {},
   "outputs": [
    {
     "name": "stderr",
     "output_type": "stream",
     "text": [
      "/home/gofat/miniconda/lib/python3.6/site-packages/ipykernel_launcher.py:1: SettingWithCopyWarning: \n",
      "A value is trying to be set on a copy of a slice from a DataFrame.\n",
      "Try using .loc[row_indexer,col_indexer] = value instead\n",
      "\n",
      "See the caveats in the documentation: http://pandas.pydata.org/pandas-docs/stable/user_guide/indexing.html#returning-a-view-versus-a-copy\n",
      "  \"\"\"Entry point for launching an IPython kernel.\n"
     ]
    }
   ],
   "source": [
    "ids[\"resume_text\"] = res_text"
   ]
  },
  {
   "cell_type": "code",
   "execution_count": 148,
   "metadata": {},
   "outputs": [],
   "source": [
    "ids.to_csv(\"parsed_data.csv\", index=False)"
   ]
  }
 ],
 "metadata": {
  "kernelspec": {
   "display_name": "Python 3",
   "language": "python",
   "name": "python3"
  },
  "language_info": {
   "codemirror_mode": {
    "name": "ipython",
    "version": 3
   },
   "file_extension": ".py",
   "mimetype": "text/x-python",
   "name": "python",
   "nbconvert_exporter": "python",
   "pygments_lexer": "ipython3",
   "version": "3.6.10"
  }
 },
 "nbformat": 4,
 "nbformat_minor": 2
}
